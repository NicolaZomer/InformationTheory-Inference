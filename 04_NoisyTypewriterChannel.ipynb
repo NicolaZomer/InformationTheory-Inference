{
 "cells": [
  {
   "attachments": {},
   "cell_type": "markdown",
   "metadata": {},
   "source": [
    "# Noisy Typewriter Channel\n",
    "## Task\n",
    "Consider the _noisy typewriter channel_, mapping\n",
    "$$\n",
    " \\mathcal{A}_Z = \\{A, B, C, \\dots , Y, Z, -\\}\n",
    "$$\n",
    "with $|\\mathcal{A}_Z| = 27$, into $\\mathcal{A}_Y = \\mathcal{A}_Z$, where each letter is mapped with equal probabilities into the preceding, the following or the same letter (p. 41-44 of the notes). Design an efficient code by which to reliably send symbols from $\\mathcal{A}_X = \\mathcal{A}_Z$ through the channel (i.e., you should be able to send and retrieve a text using the 27 symbols with no error).\n",
    "\n",
    "## Introduction, the noisy typewriter channel\n",
    "In the noisy typewriter channel symbols from the English alphabet plus the space $-$ symbol are mapped onto the same alphabet, with the following probabilistic rule: each letter is mapped with equal probability onto the same letter, the preceding letter or the following letter. In other words, we have:\n",
    "$$\n",
    "P(Y=\\texttt{A}|Z=\\texttt{B})=1/3, \\quad P(Y=\\texttt{B}|Z=\\texttt{B})=1/3, \\quad P(Y=\\texttt{C}|Z=\\texttt{B})=1/3 \n",
    "$$\n",
    "$$\n",
    "P(Y=\\texttt{B}|Z=\\texttt{C})=1/3, \\quad P(Y=\\texttt{C}|Z=\\texttt{C})=1/3, \\quad P(Y=\\texttt{D}|Z=\\texttt{C})=1/3 \n",
    "$$\n",
    "Note that the preceding symbol of $\\texttt{A}$ is $-$ and the following symbol of $-$ is $\\texttt{A}$. The action of the channel can be represented graphically as follows:\n",
    "\n",
    "![ntw1](images/noisyt1.png)\n",
    "\n",
    "For this channel, we can immediately derive a $(\\log 9,1)$ block code. In such code, we use the keywords:\n",
    "$$\n",
    "S = \\{\\texttt{B}, \\texttt{E}, \\texttt{H}, \\dots\\}\n",
    "$$\n",
    "with $2^K=|S|$ and $K=\\log 9$ (non-integer). This codes uses one every three letters as a codeword. This code uses a set of _non-confusable codewords_, i.e. codewords $z_i$ that are mapped onto disjoint subsets of $\\mathcal{A}_y$ by the action of the channel.\n",
    "\n",
    "![ntw2](images/noisyt2.png)\n",
    "\n",
    "This implies that:\n",
    "$$\n",
    "\\forall \\mathbf{y} \\in \\mathcal{A}_y^{(n)}, \\quad \\exists \\text{ unique } \\textit{i},  P_{Z}(z_i|\\mathbf{y}) > 0\n",
    "$$\n",
    "which ensures that $z_i$ can be decoded with no error from $\\mathbf{y}$. This allows to reliably send information at a rate $\\log |S|/n$. For the noisy typewriter channel, the rate is $R=2\\log 3$, which can be proven it corresponds to the channel capacity. Note that if we have a set of non-confusable keywords, $n_Y = n_Z n_{Y|Z}$ and \n",
    "$$\n",
    "n_{Z|Y} = \\frac{n_Z n_{Y|Z}}{n_Y} = 1 \\quad \\Longleftrightarrow \\quad H[Z|Y] = H[Z]+H[Y|Z]-H[Y] = 0 \n",
    "$$\n",
    "\n",
    "For the noisy typewriter example, we can create a code of length $n=1$, selecting $A_X={B,E,H,\\dots}$ (every third letter). These codewords are _non-confusable_ (they cannot lead to the same received message under noise). In this case, it will be trivial to decode the output. We have $n=1$ and $K=\\log 9$, so $R=\\log 9$ which corresponds to the channel capacity $C$."
   ]
  },
  {
   "attachments": {},
   "cell_type": "markdown",
   "metadata": {},
   "source": [
    "## Shannon's noisy channel coding theorem\n",
    "Given a channel, for large enough $n$ there exists an ($nR,n$) block code (with capacity R) whenever $R<C$. This general results rests upon the fact that sequences become typical in the limit $n \\to \\infty$."
   ]
  },
  {
   "attachments": {},
   "cell_type": "markdown",
   "metadata": {},
   "source": [
    "# Solution 1\n",
    "In this exercise we want reliably send symbols from $\\mathcal{A}_X = \\mathcal{A}_Z$ through the channel, using all 27 symbols with no error. We can base an efficient and reliable code by using a subset of non-confusable inputs, e.g.\n",
    "$$\n",
    "S = \\{\\texttt{B}, \\texttt{E}, \\texttt{H}, \\texttt{K}, \\texttt{N}, \\texttt{Q}, \\texttt{T}, \\texttt{W}, \\texttt{Z}\\}\n",
    "$$\n",
    "with $|S| = 9$. Since there are 81 sequences of 2 symbols from $S$, $|S^{(2)}| = 81$ and $81 > 27$, we can just select any subset of 27 pairs of symbols from $S$, i.e.\n",
    "$$\n",
    "S' \\subset S^{(2)}\n",
    "$$\n",
    "with $|S'| = 27$, to reliably encode the input.\n",
    "\n",
    "For instance, we can divide the 27 letters into 3 groups of 9 letters:\n",
    "$$\n",
    "g_1 = \\{\\texttt{A}, \\texttt{B}, \\dots, \\texttt{I}\\}, \\quad g_2 = \\{\\texttt{J}, \\texttt{K}, \\dots, \\texttt{R}\\}, \\quad g_3=\\{\\texttt{S}, \\texttt{T}, \\dots, -\\} \n",
    "$$\n",
    "and use the first letter of the code to encode for the group, i.e.\n",
    "$$\n",
    "g_1 \\rightarrow B, \\quad g_2 \\rightarrow E, \\quad g_3 \\rightarrow H\n",
    "$$\n",
    "and the second letter of the code to encode for the specific letter within the\n",
    "group:\n",
    "$$\n",
    "\\begin{align*}\n",
    "    \\{\\texttt{A}, \\texttt{B}, \\dots, \\texttt{I}\\} &\\rightarrow \\{\\texttt{B}, \\texttt{E}, \\dots, \\texttt{Z}\\} \\\\\n",
    "    \\{\\texttt{J}, \\texttt{K}, \\dots, \\texttt{R}\\} &\\rightarrow \\{\\texttt{B}, \\texttt{E}, \\dots, \\texttt{Z}\\} \\\\\n",
    "    \\{\\texttt{S}, \\texttt{T}, \\dots, \\texttt{-}\\} &\\rightarrow \\{\\texttt{B}, \\texttt{E}, \\dots, \\texttt{Z}\\} \n",
    "\\end{align*}\n",
    "$$\n",
    "\n",
    "arriving at the two-letter code $E: \\mathcal{A}_X \\rightarrow S^{(2)}$.\n",
    "\n",
    "Notice that the average length of this code is 2, irrespective of the input distribution. The rate is:\n",
    "$$\n",
    "    \\mathcal{R} = \\frac{K}{2} = \\frac{\\log{27}}{2} = \\frac{3\\log 3}{2}\n",
    "$$"
   ]
  },
  {
   "attachments": {},
   "cell_type": "markdown",
   "metadata": {},
   "source": [
    "## Implementation"
   ]
  },
  {
   "cell_type": "code",
   "execution_count": 1,
   "metadata": {},
   "outputs": [],
   "source": [
    "import numpy as np\n",
    "import string"
   ]
  },
  {
   "cell_type": "code",
   "execution_count": 2,
   "metadata": {},
   "outputs": [
    {
     "name": "stdout",
     "output_type": "stream",
     "text": [
      "There are 27 symbols in the alphabet:\n",
      " ['A', 'B', 'C', 'D', 'E', 'F', 'G', 'H', 'I', 'J', 'K', 'L', 'M', 'N', 'O', 'P', 'Q', 'R', 'S', 'T', 'U', 'V', 'W', 'X', 'Y', 'Z', '-']\n",
      "\n",
      "Non-confusable keywords: ['B', 'E', 'H', 'K', 'N', 'Q', 'T', 'W', 'Z']\n"
     ]
    }
   ],
   "source": [
    "list_letters = list(string.ascii_uppercase)+['-']\n",
    "non_confusable_kw = [list_letters[i] for i in np.arange(1, 27, 3)]\n",
    "\n",
    "print('There are %i symbols in the alphabet:\\n' %len(list_letters), list_letters)\n",
    "print('\\nNon-confusable keywords:', non_confusable_kw)\n",
    "\n",
    "\n",
    "def noisy_typewriter(letter_in):\n",
    "    '''\n",
    "    letter_in:  input letter, must be a string\n",
    "    letter_out: output letter, after passing through the noisy channel\n",
    "    '''\n",
    "    \n",
    "    # convert to upper\n",
    "    # letter_in = letter_in.upper() # not needed, input of the encoding is always uppercase\n",
    "      \n",
    "    # channel action  \n",
    "    idx_in = list_letters.index(letter_in)\n",
    "    \n",
    "    channel_action = np.random.choice([-1, 0, 1])\n",
    "    idx_out = idx_in + channel_action\n",
    "          \n",
    "    idx_out = (idx_out+27)%27\n",
    "    letter_out = list_letters[idx_out]\n",
    "        \n",
    "    return letter_out\n",
    "    \n",
    "    \n",
    "def encoding_1(letter_in):\n",
    "    '''\n",
    "    letter_in: input letter, must be a string\n",
    "    code_out:  output code of the encoding, to be passed through the noisy channel\n",
    "    '''\n",
    "    \n",
    "    group_letters = ['B', 'E', 'H']\n",
    "    \n",
    "    # convert to upper\n",
    "    letter_in = letter_in.upper()\n",
    "        \n",
    "    # encoding\n",
    "    idx_in = list_letters.index(letter_in)\n",
    "    \n",
    "    if (0 <= idx_in < 9):\n",
    "        group = 1        \n",
    "    elif (9 <= idx_in < 18):\n",
    "        group = 2\n",
    "    elif (18 <= idx_in < 27):\n",
    "        group = 3\n",
    "    else:\n",
    "        raise Exception('Something wrong in idx_in')\n",
    "\n",
    "    idx_out = idx_in - (group-1)*9\n",
    "    code_out = [group_letters[group-1], non_confusable_kw[idx_out]]\n",
    "    \n",
    "    return code_out\n",
    "    \n",
    "\n",
    "def decoding_1(code_in):\n",
    "    '''\n",
    "    code_in: input code, must be a list of strings, passed through the channel\n",
    "    letter_out: decoding output, single letter\n",
    "    '''\n",
    "        \n",
    "    group_index = list_letters.index(code_in[0])//3    \n",
    "    nonconf_index = list_letters.index(code_in[1])//3   \n",
    "     \n",
    "    idx_out = group_index*9 + nonconf_index\n",
    "    \n",
    "    letter_out = list_letters[idx_out]\n",
    "    \n",
    "    return letter_out\n",
    "    \n",
    "    \n",
    "def simulation_1(letter_in):\n",
    "    enc = encoding_1(letter_in)\n",
    "    y = []\n",
    "    \n",
    "    for char in enc:\n",
    "        y.append(noisy_typewriter(char))\n",
    "\n",
    "    dec = decoding_1(y)\n",
    "    \n",
    "    return letter_in, enc, y, dec"
   ]
  },
  {
   "cell_type": "code",
   "execution_count": 3,
   "metadata": {},
   "outputs": [
    {
     "name": "stdout",
     "output_type": "stream",
     "text": [
      "Noisy Typewriter Channel: \n",
      "\n",
      "A -> ['-', 'A', 'B']\n",
      "D -> ['C', 'D', 'E']\n",
      "- -> ['-', 'A', 'Z']\n"
     ]
    }
   ],
   "source": [
    "# test the channel\n",
    "tests = ['A', 'D', '-']\n",
    "test_results = {}\n",
    "\n",
    "for test in tests:\n",
    "    outputs = []\n",
    "    \n",
    "    for i in range(100):\n",
    "        output_test = noisy_typewriter(test)\n",
    "        outputs.append(output_test)\n",
    "\n",
    "    test_results[test] = list(set(outputs))\n",
    "        \n",
    "print('Noisy Typewriter Channel: \\n')\n",
    "for key in test_results:\n",
    "    print(key, '->', sorted(test_results[key]))"
   ]
  },
  {
   "cell_type": "code",
   "execution_count": 4,
   "metadata": {},
   "outputs": [
    {
     "name": "stdout",
     "output_type": "stream",
     "text": [
      "Encoding 1: \n",
      "\n",
      "A -> ['B', 'B']\n",
      "B -> ['B', 'E']\n",
      "C -> ['B', 'H']\n",
      "D -> ['B', 'K']\n",
      "E -> ['B', 'N']\n",
      "F -> ['B', 'Q']\n",
      "G -> ['B', 'T']\n",
      "H -> ['B', 'W']\n",
      "I -> ['B', 'Z']\n",
      "J -> ['E', 'B']\n",
      "K -> ['E', 'E']\n",
      "L -> ['E', 'H']\n",
      "M -> ['E', 'K']\n",
      "N -> ['E', 'N']\n",
      "O -> ['E', 'Q']\n",
      "P -> ['E', 'T']\n",
      "Q -> ['E', 'W']\n",
      "R -> ['E', 'Z']\n",
      "S -> ['H', 'B']\n",
      "T -> ['H', 'E']\n",
      "U -> ['H', 'H']\n",
      "V -> ['H', 'K']\n",
      "W -> ['H', 'N']\n",
      "X -> ['H', 'Q']\n",
      "Y -> ['H', 'T']\n",
      "Z -> ['H', 'W']\n",
      "- -> ['H', 'Z']\n"
     ]
    }
   ],
   "source": [
    "# test the encoding\n",
    "print('Encoding 1: \\n')\n",
    "\n",
    "enc_list = []\n",
    "for letter in list_letters:\n",
    "    enc = encoding_1(letter)\n",
    "    enc_list.append(enc)\n",
    "    \n",
    "    print(letter, '->', enc)"
   ]
  },
  {
   "cell_type": "code",
   "execution_count": 5,
   "metadata": {},
   "outputs": [
    {
     "name": "stdout",
     "output_type": "stream",
     "text": [
      "Decoding 1, only encoded sequences: \n",
      "\n",
      "['B', 'B'] -> A\n",
      "['B', 'E'] -> B\n",
      "['B', 'H'] -> C\n",
      "['B', 'K'] -> D\n",
      "['B', 'N'] -> E\n",
      "['B', 'Q'] -> F\n",
      "['B', 'T'] -> G\n",
      "['B', 'W'] -> H\n",
      "['B', 'Z'] -> I\n",
      "['E', 'B'] -> J\n",
      "['E', 'E'] -> K\n",
      "['E', 'H'] -> L\n",
      "['E', 'K'] -> M\n",
      "['E', 'N'] -> N\n",
      "['E', 'Q'] -> O\n",
      "['E', 'T'] -> P\n",
      "['E', 'W'] -> Q\n",
      "['E', 'Z'] -> R\n",
      "['H', 'B'] -> S\n",
      "['H', 'E'] -> T\n",
      "['H', 'H'] -> U\n",
      "['H', 'K'] -> V\n",
      "['H', 'N'] -> W\n",
      "['H', 'Q'] -> X\n",
      "['H', 'T'] -> Y\n",
      "['H', 'W'] -> Z\n",
      "['H', 'Z'] -> -\n",
      "\n",
      "Decoding 1, any sequence: \n",
      "\n",
      "['A', 'A'] -> A\n",
      "['A', 'E'] -> B\n",
      "['H', '-'] -> -\n"
     ]
    }
   ],
   "source": [
    "# test the decoding, perfect case, no channel action\n",
    "print('Decoding 1, only encoded sequences: \\n')\n",
    "for enc in enc_list:\n",
    "    dec = decoding_1(enc)\n",
    "    \n",
    "    print(enc, '->', dec)\n",
    "    \n",
    "# test the decoding, general case\n",
    "print('\\nDecoding 1, any sequence: \\n')\n",
    "tests = [['A', 'A'], ['A', 'E'], ['H', '-']]\n",
    "for test in tests:\n",
    "    dec = decoding_1(test)\n",
    "    \n",
    "    print(test, '->', dec)\n"
   ]
  },
  {
   "cell_type": "code",
   "execution_count": 6,
   "metadata": {},
   "outputs": [
    {
     "name": "stdout",
     "output_type": "stream",
     "text": [
      "Simulation with encoding 1:\n",
      "\n",
      "A -> ['B', 'B'] --- Noisy Channel ---> ['C', 'C'] -> A\n",
      "B -> ['B', 'E'] --- Noisy Channel ---> ['B', 'E'] -> B\n",
      "C -> ['B', 'H'] --- Noisy Channel ---> ['A', 'G'] -> C\n",
      "D -> ['B', 'K'] --- Noisy Channel ---> ['C', 'L'] -> D\n",
      "- -> ['H', 'Z'] --- Noisy Channel ---> ['H', 'Z'] -> -\n"
     ]
    }
   ],
   "source": [
    "# perform some simulations of the complete process\n",
    "to_transmit = ['A', 'B', 'C', 'D', '-']\n",
    "\n",
    "print('Simulation with encoding 1:\\n')\n",
    "for letter in to_transmit:\n",
    "    sim = simulation_1(letter)\n",
    "    print(sim[0], '->', sim[1], '--- Noisy Channel --->', sim[2], '->', sim[3])\n"
   ]
  },
  {
   "attachments": {},
   "cell_type": "markdown",
   "metadata": {},
   "source": [
    "# Solution 2\n",
    "In the previous solution we had that the rate $\\mathcal{R}$ was equal to $3/2\\cdot\\log 3$. However, notice that the channel capacity is:\n",
    "$$\n",
    "    C = \\max_Z I[Z:Y] = 2 \\log 3 > R = \\frac{3}{2}\\log 3\n",
    "$$\n",
    "which is more than the rate obtained with solution 1. This means that when using the channel at its capacity, we should use 1.5 letters to encode a single letter (not 2). We know that we can achieve the capacity by encoding sequences of messages $\\mathcal{A}^{(m)}_X$ into non-confusable sequences of inputs strings $\\mathcal{A}^{(n)}_Z$, and in the limit $n\\to \\infty$, we should communicate information at the channel capacity. \n",
    "\n",
    "In this simple case it is sufficient to consider $m = 2$, $n = 3$. For $n = 3$, we can consider the set of sequences of 3 non-confusable input symbols:\n",
    "$$\n",
    "    z^{(3)}\\in S^{(3)}\n",
    "$$\n",
    "with $|S^{(3)}| = 9^3 = 729$. These sequences are sufficient to reliably encode $27^2 = 729$ symbols $x^{(2)} \\in \\mathcal{A}^{(2)}_X$. In other words, we can map a pair of letters $X^{(2)}\\in \\mathcal{A}_X$ from the 27-letter alphabet into a triple of letters from $S^{(3)}$, e.g.\n",
    "$$\n",
    "AA\\to BBB, \\quad AB\\to BBE, \\quad AC\\to BBH, \\quad \\dots \\quad -U\\to ZZT, \\quad -Z\\to ZZW, \\quad --\\to ZZZ\n",
    "$$\n",
    "\n",
    "This is $(n,K)$ block code with $n = 3$ and $K = \\log 729 = 9 \\log 3$. Hence the rate is:\n",
    "$$\n",
    "    R = \\frac{K}{n} = 2\\log 3 = C\n",
    "$$\n",
    "achieving the channel capacity. In this code, we use only 1.5 letters (on average) to encode a letter.\n"
   ]
  },
  {
   "attachments": {},
   "cell_type": "markdown",
   "metadata": {},
   "source": [
    "## Implementation "
   ]
  },
  {
   "cell_type": "code",
   "execution_count": 7,
   "metadata": {},
   "outputs": [],
   "source": [
    "def divisione_con_resto(a, b):\n",
    "    return a//b, a%b"
   ]
  },
  {
   "cell_type": "code",
   "execution_count": 8,
   "metadata": {},
   "outputs": [],
   "source": [
    "def encoding_2(letters_in):\n",
    "    '''\n",
    "    letter_in: list of 2 input letters\n",
    "    code_out:  output code of the encoding, to be passed through the noisy channel; it is a list of 3 non-confusable keywords\n",
    "    '''\n",
    "    \n",
    "    # convert to upper\n",
    "    letters_in = [l.upper() for l in letters_in]\n",
    "        \n",
    "    # encoding\n",
    "    idx_in = list_letters.index(letters_in[0])*27+list_letters.index(letters_in[1])\n",
    "    \n",
    "    idx_in, digit_3 = divisione_con_resto(idx_in, 9)\n",
    "    idx_in, digit_2 = divisione_con_resto(idx_in, 9)\n",
    "    idx_in, digit_1 = divisione_con_resto(idx_in, 9)\n",
    "    \n",
    "    if idx_in != 0:\n",
    "        raise Exception('Something wrong in idx_in')\n",
    "\n",
    "    code_out = []\n",
    "    code_out.append(non_confusable_kw[digit_1])\n",
    "    code_out.append(non_confusable_kw[digit_2])\n",
    "    code_out.append(non_confusable_kw[digit_3])\n",
    "\n",
    "    return code_out\n",
    "    \n",
    "\n",
    "def decoding_2(code_in):\n",
    "    '''\n",
    "    code_in: input code, must be a list of 3 elements, passed through the channel\n",
    "    letter_out: decoding output, list of 2 letters\n",
    "    '''\n",
    "    \n",
    "    digit_1_in = list_letters.index(code_in[0])//3   \n",
    "    digit_2_in = list_letters.index(code_in[1])//3    \n",
    "    digit_3_in = list_letters.index(code_in[2])//3    \n",
    "    \n",
    "    idx_out = digit_3_in*1 + digit_2_in*9 + digit_1_in*9**2\n",
    "    \n",
    "    idx_out, digit_2_out = divisione_con_resto(idx_out, 27)\n",
    "    idx_out, digit_1_out = divisione_con_resto(idx_out, 27)\n",
    "    \n",
    "    if idx_out != 0:\n",
    "        raise Exception('Something wrong in idx_out')\n",
    "     \n",
    "    letter_out = []\n",
    "    letter_out.append(list_letters[digit_1_out])\n",
    "    letter_out.append(list_letters[digit_2_out])\n",
    "    \n",
    "    return letter_out\n",
    "\n",
    "\n",
    "def simulation_2(letters_in):\n",
    "    enc = encoding_2(letters_in)\n",
    "    y = []\n",
    "    \n",
    "    for char in enc:\n",
    "        y.append(noisy_typewriter(char))\n",
    "\n",
    "    dec = decoding_2(y)\n",
    "    \n",
    "    return letters_in, enc, y, dec"
   ]
  },
  {
   "cell_type": "code",
   "execution_count": 9,
   "metadata": {},
   "outputs": [
    {
     "name": "stdout",
     "output_type": "stream",
     "text": [
      "Encoding 2: \n",
      "\n",
      "['A', 'A'] -> ['B', 'B', 'B']\n",
      "['A', 'B'] -> ['B', 'B', 'E']\n",
      "['A', 'C'] -> ['B', 'B', 'H']\n",
      "['-', 'Y'] -> ['Z', 'Z', 'T']\n",
      "['-', 'Z'] -> ['Z', 'Z', 'W']\n",
      "['-', '-'] -> ['Z', 'Z', 'Z']\n"
     ]
    }
   ],
   "source": [
    "# test the encoding\n",
    "print('Encoding 2: \\n')\n",
    "\n",
    "tests = [['A', 'A'], ['A', 'B'], ['A', 'C'], ['-', 'Y'], ['-', 'Z'], ['-', '-']]\n",
    "enc_list = []\n",
    "for t in tests:\n",
    "    enc = encoding_2(t)\n",
    "    enc_list.append(enc)\n",
    "        \n",
    "    print(t, '->', enc)"
   ]
  },
  {
   "cell_type": "code",
   "execution_count": 10,
   "metadata": {},
   "outputs": [
    {
     "name": "stdout",
     "output_type": "stream",
     "text": [
      "Decoding 2, only encoded sequences: \n",
      "\n",
      "['B', 'B', 'B'] -> ['A', 'A']\n",
      "['B', 'B', 'E'] -> ['A', 'B']\n",
      "['B', 'B', 'H'] -> ['A', 'C']\n",
      "['Z', 'Z', 'T'] -> ['-', 'Y']\n",
      "['Z', 'Z', 'W'] -> ['-', 'Z']\n",
      "['Z', 'Z', 'Z'] -> ['-', '-']\n",
      "\n",
      "Decoding 2, any sequence: \n",
      "\n",
      "['A', 'A', 'B'] -> ['A', 'A']\n",
      "['A', 'B', 'F'] -> ['A', 'B']\n",
      "['-', 'Z', '-'] -> ['-', '-']\n"
     ]
    }
   ],
   "source": [
    "# test the decoding, perfect case, no channel action\n",
    "print('Decoding 2, only encoded sequences: \\n')\n",
    "for enc in enc_list:\n",
    "    dec = decoding_2(enc)\n",
    "    \n",
    "    print(enc, '->', dec)\n",
    "    \n",
    "# test the decoding, general case\n",
    "print('\\nDecoding 2, any sequence: \\n')\n",
    "tests = [['A', 'A', 'B'], ['A', 'B', 'F'], ['-', 'Z', '-']]\n",
    "for test in tests:\n",
    "    dec = decoding_2(test)  \n",
    "    print(test, '->', dec)"
   ]
  },
  {
   "cell_type": "code",
   "execution_count": 11,
   "metadata": {},
   "outputs": [
    {
     "name": "stdout",
     "output_type": "stream",
     "text": [
      "Simulation with encoding 2:\n",
      "\n",
      "['A', 'A'] -> ['B', 'B', 'B'] --- Noisy Channel ---> ['B', 'A', 'A'] -> ['A', 'A']\n",
      "['A', 'B'] -> ['B', 'B', 'E'] --- Noisy Channel ---> ['A', 'A', 'E'] -> ['A', 'B']\n",
      "['A', 'C'] -> ['B', 'B', 'H'] --- Noisy Channel ---> ['C', 'A', 'H'] -> ['A', 'C']\n",
      "['-', 'Y'] -> ['Z', 'Z', 'T'] --- Noisy Channel ---> ['-', 'Z', 'S'] -> ['-', 'Y']\n",
      "['-', 'Z'] -> ['Z', 'Z', 'W'] --- Noisy Channel ---> ['-', 'Y', 'V'] -> ['-', 'Z']\n",
      "['-', '-'] -> ['Z', 'Z', 'Z'] --- Noisy Channel ---> ['-', '-', 'Z'] -> ['-', '-']\n"
     ]
    }
   ],
   "source": [
    "# perform some simulations of the complete process\n",
    "to_transmit = [['A', 'A'], ['A', 'B'], ['A', 'C'], ['-', 'Y'], ['-', 'Z'], ['-', '-']]\n",
    "\n",
    "print('Simulation with encoding 2:\\n')\n",
    "for letters in to_transmit:\n",
    "    sim = simulation_2(letters)\n",
    "    print(sim[0], '->', sim[1], '--- Noisy Channel --->', sim[2], '->', sim[3])"
   ]
  }
 ],
 "metadata": {
  "kernelspec": {
   "display_name": "Python 3.9.7 ('base')",
   "language": "python",
   "name": "python3"
  },
  "language_info": {
   "codemirror_mode": {
    "name": "ipython",
    "version": 3
   },
   "file_extension": ".py",
   "mimetype": "text/x-python",
   "name": "python",
   "nbconvert_exporter": "python",
   "pygments_lexer": "ipython3",
   "version": "3.9.7 (default, Sep 16 2021, 16:59:28) [MSC v.1916 64 bit (AMD64)]"
  },
  "orig_nbformat": 4,
  "vscode": {
   "interpreter": {
    "hash": "dabd4eacb9e3ddd54eefcebcf933935be170cfdef29c95630fe9376e024beb9c"
   }
  }
 },
 "nbformat": 4,
 "nbformat_minor": 2
}
