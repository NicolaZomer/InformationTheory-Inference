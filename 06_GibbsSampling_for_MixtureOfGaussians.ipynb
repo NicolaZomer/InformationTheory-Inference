{
 "cells": [
  {
   "attachments": {},
   "cell_type": "markdown",
   "metadata": {},
   "source": [
    "# Application of Gibbs Sampling to Mixture of Gaussians\n",
    "\n",
    "## Task\n",
    "The file `data_ex06.csv` contains data sampled from a mixture of $K = 4$ Gaussians. The standard deviations of the Gaussians are known and\n",
    "identical, $\\sigma_k = \\sigma = 0.5$. Reconstruct the unknown parameters and the latent variables:\n",
    "$$\n",
    "    p_k, \\mu_k, Z_i\n",
    "$$\n",
    "where $Z_i$ represents the assignment of each point to one of the mixture components. To perform the inference, use _Gibbs sampling_.\n",
    "\n",
    "**Step 1** <br>\n",
    "Initialize randomly $p_k, \\mu_k, Z_i$. Compute $N_k = \\sum_i \\chi(Z_i=k)$ and $m_k=\\sum_i \\chi(Z_i=k) x_k$.\n",
    "\n",
    "**Step 2** <br>\n",
    "Perform Gibbs sampling iterations:\n",
    "- Sample $\\mu_k$ from a normal with mean:\n",
    "  $$\n",
    "    \\mu'_k = \\left(\\frac{\\mu_0}{\\sigma_0}+\\frac{m_k}{\\sigma}\\right)\\frac{1}{\\left(\\frac{1}{\\sigma_0^2}+\\frac{N_k}{\\sigma^2}\\right)}\n",
    "  $$\n",
    "  and standard deviation:\n",
    "  $$\n",
    "    \\sigma'_k = \\left(\\frac{1}{\\sigma_0^2}+\\frac{N_k}{\\sigma^2}\\right)^{-\\frac{1}{2}}\n",
    "  $$\n",
    "  Here $\\mu_0 = 0$ and $\\sigma_0 = 1000$ are the Gaussian prior parameters. Do this for all $k$.\n",
    "\n",
    "- Sample the $p$ from a Dirichlet distribution with parameters $\\gamma'_k=\\gamma_k+N_k$. Here $\\gamma_k=1$ are the Dirichlet prior parameters.\n",
    "\n",
    "- Sample the $Z_i$ from a categorical distribution:\n",
    "  $$\n",
    "    P(Z_i=k) = \\frac{p_k\\exp\\left\\{-\\frac{(x_k-\\mu_k)^2}{2\\sigma^2}\\right\\}}{\\sum_k p_k\\exp\\left\\{-\\frac{(x_k-\\mu_k)^2}{2\\sigma^2}\\right\\}}\n",
    "  $$\n",
    "\n",
    "- If $Z_i$ is updated, update $N_k$ and $m_k$."
   ]
  },
  {
   "cell_type": "code",
   "execution_count": null,
   "metadata": {},
   "outputs": [],
   "source": [
    "import numpy as np\n",
    "import matplotlib.pyplot as plt"
   ]
  }
 ],
 "metadata": {
  "kernelspec": {
   "display_name": "base",
   "language": "python",
   "name": "python3"
  },
  "language_info": {
   "name": "python",
   "version": "3.9.7 (default, Sep 16 2021, 16:59:28) [MSC v.1916 64 bit (AMD64)]"
  },
  "orig_nbformat": 4,
  "vscode": {
   "interpreter": {
    "hash": "dabd4eacb9e3ddd54eefcebcf933935be170cfdef29c95630fe9376e024beb9c"
   }
  }
 },
 "nbformat": 4,
 "nbformat_minor": 2
}
